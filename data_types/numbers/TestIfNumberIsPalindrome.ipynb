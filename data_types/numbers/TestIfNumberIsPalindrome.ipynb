{
  "metadata": {
    "kernelspec": {
      "name": "python",
      "display_name": "Python (Pyodide)",
      "language": "python"
    },
    "language_info": {
      "codemirror_mode": {
        "name": "python",
        "version": 3
      },
      "file_extension": ".py",
      "mimetype": "text/x-python",
      "name": "python",
      "nbconvert_exporter": "python",
      "pygments_lexer": "ipython3",
      "version": "3.8"
    }
  },
  "nbformat_minor": 4,
  "nbformat": 4,
  "cells": [
    {
      "cell_type": "markdown",
      "source": "# Problem - Test if Number is Palindrome (Easy)",
      "metadata": {}
    },
    {
      "cell_type": "markdown",
      "source": "Write a function to test if a given number is a palindrome (same from left to right as from right to left).",
      "metadata": {}
    },
    {
      "cell_type": "markdown",
      "source": "## Solution #1 - Simple solution with str()",
      "metadata": {}
    },
    {
      "cell_type": "markdown",
      "source": "An easy solution would be casting the number to string, and using slicing:",
      "metadata": {}
    },
    {
      "cell_type": "code",
      "source": "def IntIsPalindrome (x):\n    print (f\"\\nIs {str(x)} a palindrome?\")\n    return x == int(str(x)[::-1])\n\nprint (IntIsPalindrome (345))\nprint (IntIsPalindrome (999))",
      "metadata": {
        "trusted": true
      },
      "outputs": [
        {
          "name": "stdout",
          "text": "\nIs 345 a palindrome?\nFalse\n\nIs 999 a palindrome?\nTrue\n",
          "output_type": "stream"
        }
      ],
      "execution_count": 11
    },
    {
      "cell_type": "markdown",
      "source": "## Solution #2 - A more challenging solution without built-in functions",
      "metadata": {}
    },
    {
      "cell_type": "markdown",
      "source": "To test if a number is a palindrome, we can construct it in reverse order, and check if the final number is equal to the initial number.\nFor instance if n=345, we can start constructing the number backwards (e.g. 5,4,3), and we can conclude it's not a palindrome because 543 is not equal to 345. \nIf we chose the number n=1001 and we construct it backwards (1,0,0,1) we get 1001=1001, so we can conclude it's a palindrome number.\n\nThe big question now is, how to construct a given number backwards?\n - If any given number is divided by 10, the remainder of the division will always equal the last digit of the number (e.g. 345%10 = 5)\n - If we save the last digit of the number in a new number (e.g. pal), we can start constructing the palindrome of the original number\n - To keep constructing the palindrome in a loop until we reach the end of the original number, we can just multiply our latest pal number by 10, and add the latest unit (pal = pal*10 + y%10)\n - Finally, we only need to think of a way to eliminate the last digit of the original number each iteration of the loop. For that, we just need to divide the original number by 10, and save the result of the division (without remainder).\n\nThis whole approach can be implemented as follows:",
      "metadata": {}
    },
    {
      "cell_type": "code",
      "source": "def IntIsPalindrome (x):\n    print (f\"\\nIs {x} a palindrome?\")\n    \n    y = x\n    pal = 0\n    \n    while y>0:\n        pal = pal*10 + y%10\n        y = y//10\n        \n    return pal==x\n\nprint (IntIsPalindrome (345))\nprint (IntIsPalindrome (101101))",
      "metadata": {
        "trusted": true
      },
      "outputs": [
        {
          "name": "stdout",
          "text": "\nIs 345 a palindrome?\nFalse\n\nIs 101101 a palindrome?\nTrue\n",
          "output_type": "stream"
        }
      ],
      "execution_count": 19
    }
  ]
}
