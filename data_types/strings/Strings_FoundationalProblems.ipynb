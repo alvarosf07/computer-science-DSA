{
  "metadata": {
    "kernelspec": {
      "name": "python",
      "display_name": "Python (Pyodide)",
      "language": "python"
    },
    "language_info": {
      "codemirror_mode": {
        "name": "python",
        "version": 3
      },
      "file_extension": ".py",
      "mimetype": "text/x-python",
      "name": "python",
      "nbconvert_exporter": "python",
      "pygments_lexer": "ipython3",
      "version": "3.8"
    }
  },
  "nbformat_minor": 4,
  "nbformat": 4,
  "cells": [
    {
      "cell_type": "markdown",
      "source": "# Python \"String\" Data-Type - Foundational Problems",
      "metadata": {}
    },
    {
      "cell_type": "markdown",
      "source": "Succint review of some of the most basic operations and problems with strings in Python.",
      "metadata": {}
    },
    {
      "cell_type": "markdown",
      "source": "<br/>",
      "metadata": {}
    },
    {
      "cell_type": "markdown",
      "source": "## Problem #1 - Different Ways to Define a String in Python",
      "metadata": {}
    },
    {
      "cell_type": "markdown",
      "source": "###   String Definition #1 - Using Literals",
      "metadata": {}
    },
    {
      "cell_type": "code",
      "source": "string = \"This is a string\"\nprint (string)",
      "metadata": {
        "trusted": true
      },
      "outputs": [
        {
          "name": "stdout",
          "text": "This is a string\n",
          "output_type": "stream"
        }
      ],
      "execution_count": 2
    },
    {
      "cell_type": "markdown",
      "source": "<br/>",
      "metadata": {}
    },
    {
      "cell_type": "markdown",
      "source": "It's also possible to use special characters inside strings, like line breaks:",
      "metadata": {}
    },
    {
      "cell_type": "code",
      "source": "s = \" First line. \\n Second line.\"\nprint (s)",
      "metadata": {
        "trusted": true
      },
      "outputs": [
        {
          "name": "stdout",
          "text": " First line. \n Second line.\n",
          "output_type": "stream"
        }
      ],
      "execution_count": 4
    },
    {
      "cell_type": "markdown",
      "source": "<br/>",
      "metadata": {}
    },
    {
      "cell_type": "markdown",
      "source": "How to print quotes inside a string:",
      "metadata": {}
    },
    {
      "cell_type": "code",
      "source": "s1 = 'doesn\\'t'\ns2 = \"doesn't\"\n\nprint (s1, s2)",
      "metadata": {
        "trusted": true
      },
      "outputs": [
        {
          "name": "stdout",
          "text": "doesn't doesn't\n",
          "output_type": "stream"
        }
      ],
      "execution_count": 43
    },
    {
      "cell_type": "markdown",
      "source": "<br/>",
      "metadata": {}
    },
    {
      "cell_type": "markdown",
      "source": "How to avoid \\n as a special character:",
      "metadata": {}
    },
    {
      "cell_type": "code",
      "source": "print(r'C:\\folder\\name')  # note the r before the quote",
      "metadata": {
        "trusted": true
      },
      "outputs": [
        {
          "name": "stdout",
          "text": "C:\\folder\\name\n",
          "output_type": "stream"
        }
      ],
      "execution_count": 46
    },
    {
      "cell_type": "markdown",
      "source": "<br/>",
      "metadata": {}
    },
    {
      "cell_type": "markdown",
      "source": "### String Definition #2 - Using str() function",
      "metadata": {}
    },
    {
      "cell_type": "code",
      "source": "integer = 456\nstring = str(integer)\nprint (string)\nprint (type(string))",
      "metadata": {
        "trusted": true
      },
      "outputs": [
        {
          "name": "stdout",
          "text": "456\n<class 'str'>\n",
          "output_type": "stream"
        }
      ],
      "execution_count": 12
    },
    {
      "cell_type": "markdown",
      "source": "<br/>",
      "metadata": {}
    },
    {
      "cell_type": "markdown",
      "source": "### String Definition #3 - List Comprehension + \"\".join(list)",
      "metadata": {}
    },
    {
      "cell_type": "markdown",
      "source": "The built-in function: str.join([iterable])   joins the elements of the iterable into a single string, separated by the initial string \"str\". <br/> \nIt's very useful to transform lists of strings into a single string:",
      "metadata": {}
    },
    {
      "cell_type": "code",
      "source": "s = \" \".join(['Hi,', 'my', 'name', 'is', 'Alvaro'])\nprint (s)",
      "metadata": {
        "trusted": true
      },
      "outputs": [
        {
          "name": "stdout",
          "text": "Hi, my name is Alvaro\n",
          "output_type": "stream"
        }
      ],
      "execution_count": 14
    },
    {
      "cell_type": "markdown",
      "source": "<br/>",
      "metadata": {}
    },
    {
      "cell_type": "markdown",
      "source": "### String Definition #4 - Copy String",
      "metadata": {}
    },
    {
      "cell_type": "markdown",
      "source": "See Problem #2",
      "metadata": {}
    },
    {
      "cell_type": "markdown",
      "source": "<br/>",
      "metadata": {}
    },
    {
      "cell_type": "markdown",
      "source": "### String Definition #5 - Concatenation",
      "metadata": {}
    },
    {
      "cell_type": "markdown",
      "source": "See Problem #3",
      "metadata": {}
    },
    {
      "cell_type": "markdown",
      "source": "<br/>",
      "metadata": {}
    },
    {
      "cell_type": "markdown",
      "source": "## Problem #2 - Different Ways to Copy a String in Python",
      "metadata": {}
    },
    {
      "cell_type": "code",
      "source": "s = \"Leopard\"\n\nstring1 = s\nstring2 = s[:]\nstring3 = str(s)\n\nprint (string1)\nprint (string2)\nprint (string3)",
      "metadata": {
        "trusted": true
      },
      "outputs": [
        {
          "name": "stdout",
          "text": "Leopard\nLeopard\nLeopard\n",
          "output_type": "stream"
        }
      ],
      "execution_count": 17
    },
    {
      "cell_type": "markdown",
      "source": "Note: with immutable objects, every reference created that points to the same object, will be equal to the same object (same id).",
      "metadata": {}
    },
    {
      "cell_type": "code",
      "source": "print (id (s))\nprint (id (string1))\nprint (id (string2))\nprint (id (string3))",
      "metadata": {
        "trusted": true
      },
      "outputs": [
        {
          "name": "stdout",
          "text": "45990360\n45990360\n45990360\n45990360\n",
          "output_type": "stream"
        }
      ],
      "execution_count": 22
    },
    {
      "cell_type": "markdown",
      "source": "<br/>",
      "metadata": {}
    },
    {
      "cell_type": "markdown",
      "source": "## Problem #3 - Different Ways to Concatenate Strings in Python",
      "metadata": {}
    },
    {
      "cell_type": "markdown",
      "source": "###   String Concatenation #1 - Straight",
      "metadata": {}
    },
    {
      "cell_type": "code",
      "source": "string = \"Py\"\"thon\"\nprint (string)",
      "metadata": {
        "trusted": true
      },
      "outputs": [
        {
          "name": "stdout",
          "text": "Python\n",
          "output_type": "stream"
        }
      ],
      "execution_count": 23
    },
    {
      "cell_type": "markdown",
      "source": "Doesn't work with variables:",
      "metadata": {}
    },
    {
      "cell_type": "code",
      "source": "prefix = \"Py\"\nsufix  = \"thon\"\nprint (prefix sufix)",
      "metadata": {
        "trusted": true
      },
      "outputs": [
        {
          "ename": "<class 'SyntaxError'>",
          "evalue": "invalid syntax. Perhaps you forgot a comma? (<ipython-input-29-de3b2d28e55d>, line 3)",
          "traceback": [
            "\u001b[0;36m  Cell \u001b[0;32mIn[29], line 3\u001b[0;36m\u001b[0m\n\u001b[0;31m    print (prefix sufix)\u001b[0m\n\u001b[0m           ^\u001b[0m\n\u001b[0;31mSyntaxError\u001b[0m\u001b[0;31m:\u001b[0m invalid syntax. Perhaps you forgot a comma?\n"
          ],
          "output_type": "error"
        }
      ],
      "execution_count": 29
    },
    {
      "cell_type": "markdown",
      "source": "<br/>",
      "metadata": {}
    },
    {
      "cell_type": "markdown",
      "source": "### String Concatenation #2 - with (+)",
      "metadata": {}
    },
    {
      "cell_type": "code",
      "source": "string = \"Py\"+\"thon\"\nprint (string)",
      "metadata": {
        "trusted": true
      },
      "outputs": [
        {
          "name": "stdout",
          "text": "Python\n",
          "output_type": "stream"
        }
      ],
      "execution_count": 23
    },
    {
      "cell_type": "markdown",
      "source": "Works with variables too:",
      "metadata": {}
    },
    {
      "cell_type": "code",
      "source": "prefix = \"Py\"\nsufix  = \"thon\"\nprint (prefix + sufix)",
      "metadata": {
        "trusted": true
      },
      "outputs": [
        {
          "name": "stdout",
          "text": "Python\n",
          "output_type": "stream"
        }
      ],
      "execution_count": 26
    },
    {
      "cell_type": "markdown",
      "source": "<br/>",
      "metadata": {}
    },
    {
      "cell_type": "markdown",
      "source": "### String Concatenation #3 - Multiplication",
      "metadata": {}
    },
    {
      "cell_type": "code",
      "source": "string = 3 * \"Python\"\nprint (string)",
      "metadata": {
        "trusted": true
      },
      "outputs": [
        {
          "name": "stdout",
          "text": "PythonPythonPython\n",
          "output_type": "stream"
        }
      ],
      "execution_count": 30
    },
    {
      "cell_type": "markdown",
      "source": "<br/>",
      "metadata": {}
    },
    {
      "cell_type": "markdown",
      "source": "### String Concatenation #4 - Printing Multiple Lines",
      "metadata": {}
    },
    {
      "cell_type": "markdown",
      "source": "Straight (doesn't print line breaks):",
      "metadata": {}
    },
    {
      "cell_type": "code",
      "source": "print (\"This statement\"\n      \"is divided in two lines\")",
      "metadata": {
        "trusted": true
      },
      "outputs": [
        {
          "name": "stdout",
          "text": "This statementis divided in two lines\n",
          "output_type": "stream"
        }
      ],
      "execution_count": 35
    },
    {
      "cell_type": "markdown",
      "source": "<br/>",
      "metadata": {}
    },
    {
      "cell_type": "markdown",
      "source": "Triple quotes prints line breaks too:",
      "metadata": {}
    },
    {
      "cell_type": "code",
      "source": "print(\"\"\"\\\nThis statement \nis divided in two lines\n\"\"\")",
      "metadata": {
        "trusted": true
      },
      "outputs": [
        {
          "name": "stdout",
          "text": "This statement \nis divided in two lines\n\n",
          "output_type": "stream"
        }
      ],
      "execution_count": 39
    },
    {
      "cell_type": "markdown",
      "source": "<br/>",
      "metadata": {}
    },
    {
      "cell_type": "markdown",
      "source": "Note: string objects have no attribute \" .append() \"",
      "metadata": {}
    },
    {
      "cell_type": "markdown",
      "source": "<br/>",
      "metadata": {}
    },
    {
      "cell_type": "markdown",
      "source": "## Problem #4 - \"Mutate\" a string in Python",
      "metadata": {}
    },
    {
      "cell_type": "markdown",
      "source": "Strings in python are immutable objects. However, there's a workaround to mute strings:\n1) Convert the string to a list\n2) Mute the specific index\n3) Convert list back to string",
      "metadata": {}
    },
    {
      "cell_type": "code",
      "source": "def mutate_string (string, position, character):\n    l = list(string)\n    l [position] = character\n    mutated_string = \"\".join(l)\n    \n    return mutated_string\n\nstring1 = \"Leopard\"\nprint (string1)\nprint (mutate_string (string1, 0, \"G\"))",
      "metadata": {
        "trusted": true
      },
      "outputs": [
        {
          "name": "stdout",
          "text": "Leopard\nGeopard\n",
          "output_type": "stream"
        }
      ],
      "execution_count": 53
    },
    {
      "cell_type": "markdown",
      "source": "<br/>",
      "metadata": {}
    },
    {
      "cell_type": "markdown",
      "source": "## Problem #5 - Reverse a string in Python",
      "metadata": {}
    },
    {
      "cell_type": "markdown",
      "source": "Two ways to do it:\n- With reverse slicing\n- With reversed range and a loop",
      "metadata": {}
    },
    {
      "cell_type": "code",
      "source": "def rev_str(s):\n    return s[::-1]\n\nstring1 = \"Leopard\"\nprint (rev_str(string1))",
      "metadata": {
        "trusted": true
      },
      "outputs": [
        {
          "name": "stdout",
          "text": "drapoeL\n",
          "output_type": "stream"
        }
      ],
      "execution_count": 54
    },
    {
      "cell_type": "code",
      "source": "def rev_str(s):\n    return \"\".join([s[i] for i in range(len(s)-1,-1,-1)])\n\nstring1 = \"Leopard\"\nprint (rev_str(string1))",
      "metadata": {
        "trusted": true
      },
      "outputs": [
        {
          "name": "stdout",
          "text": "drapoeL\n",
          "output_type": "stream"
        }
      ],
      "execution_count": 55
    },
    {
      "cell_type": "markdown",
      "source": "<br/>",
      "metadata": {}
    },
    {
      "cell_type": "markdown",
      "source": "## Problem #6 - Reverse words in a string in Python",
      "metadata": {}
    },
    {
      "cell_type": "markdown",
      "source": "Given an input string s, reverse the order of the words. <br/>\nExample:\n  - Input:   \"the sky is blue\"\n  - Output:  \"blue is sky the\"",
      "metadata": {}
    },
    {
      "cell_type": "code",
      "source": "def reverseWords(s: str) -> str:\n        return \" \".join([w for w in s.split()[::-1]])\n\nstring = \"the sky is blue\"\nprint (reverseWords(string))",
      "metadata": {
        "trusted": true
      },
      "outputs": [
        {
          "name": "stdout",
          "text": "blue is sky the\n",
          "output_type": "stream"
        }
      ],
      "execution_count": 61
    },
    {
      "cell_type": "markdown",
      "source": "<br/>",
      "metadata": {}
    },
    {
      "cell_type": "markdown",
      "source": "## Problem #7 - Capitalize every word in a string in Python",
      "metadata": {}
    },
    {
      "cell_type": "markdown",
      "source": "Strings in python are immutable objects. However, there's a workaround to mute strings:\n1) Convert the string to a list\n2) Mute the specific index\n3) Convert list back to string",
      "metadata": {}
    },
    {
      "cell_type": "code",
      "source": "def capitalizeWords(s):\n    return \" \".join([w.capitalize() for w in s.split(\" \")])\n\nstring = \"the sky is blue\"\nprint (capitalizeWords(string))",
      "metadata": {
        "trusted": true
      },
      "outputs": [
        {
          "name": "stdout",
          "text": "The Sky Is Blue\n",
          "output_type": "stream"
        }
      ],
      "execution_count": 63
    }
  ]
}
