{
 "cells": [
  {
   "cell_type": "markdown",
   "metadata": {},
   "source": [
    "# Python Dictionaries - Foundational Problems"
   ]
  },
  {
   "cell_type": "markdown",
   "metadata": {},
   "source": [
    "Succint introduction to some of the most basic operations and problems with Dictionaries in Python."
   ]
  },
  {
   "cell_type": "markdown",
   "metadata": {},
   "source": [
    "### Author: Álvaro Sánchez."
   ]
  },
  {
   "cell_type": "markdown",
   "metadata": {},
   "source": [
    "If you find this introductory guide useful please cite the source before using it."
   ]
  },
  {
   "cell_type": "markdown",
   "metadata": {},
   "source": [
    "<br/>"
   ]
  },
  {
   "cell_type": "markdown",
   "metadata": {},
   "source": [
    "## Problem #1 - Different Ways to Define a Dict in Python"
   ]
  },
  {
   "cell_type": "markdown",
   "metadata": {},
   "source": [
    "###   Dict Definition #1.1 - Using comma separated list of \"key: value\" pairs within brackets"
   ]
  },
  {
   "cell_type": "code",
   "execution_count": 25,
   "metadata": {},
   "outputs": [
    {
     "name": "stdout",
     "output_type": "stream",
     "text": [
      "{'key1': 1, 'key2': 2, 'key3': 3}\n"
     ]
    }
   ],
   "source": [
    "dictionary = {'key1': 1, 'key2': 2, 'key3': 3}\n",
    "print (dictionary)"
   ]
  },
  {
   "cell_type": "markdown",
   "metadata": {},
   "source": [
    "###   Dict Definition #1.2 - Using Brackets for Empty Dict + Add Key-Values one by one"
   ]
  },
  {
   "cell_type": "markdown",
   "metadata": {},
   "source": [
    "Two empty brackets {} create an empty dictionary (not empty set). <br/>\n",
    "After initialization, we'll just need to add elements one at a time."
   ]
  },
  {
   "cell_type": "code",
   "execution_count": 8,
   "metadata": {},
   "outputs": [
    {
     "name": "stdout",
     "output_type": "stream",
     "text": [
      "<class 'dict'>\n",
      "{'key1': 1, 'key2': 2, 'key3': 3, 4: 4}\n"
     ]
    }
   ],
   "source": [
    "dictionary = {}\n",
    "print (type(dictionary))\n",
    "\n",
    "dictionary[\"key1\"] = 1\n",
    "dictionary[\"key2\"] = 2\n",
    "dictionary[\"key3\"] = 3\n",
    "dictionary[4] = 4\n",
    "print (dictionary)"
   ]
  },
  {
   "cell_type": "markdown",
   "metadata": {},
   "source": [
    "<br/>"
   ]
  },
  {
   "cell_type": "markdown",
   "metadata": {},
   "source": [
    "### String Definition #2 - Using dict() constructor function"
   ]
  },
  {
   "cell_type": "markdown",
   "metadata": {},
   "source": [
    "As a list of (key: value) pairs:"
   ]
  },
  {
   "cell_type": "code",
   "execution_count": 24,
   "metadata": {},
   "outputs": [
    {
     "data": {
      "text/plain": [
       "{'key1': 1, 'key2': 2, 'key3': 3}"
      ]
     },
     "execution_count": 24,
     "metadata": {},
     "output_type": "execute_result"
    }
   ],
   "source": [
    "dict( [('key1',1), ('key2',2), ('key3',3)] )"
   ]
  },
  {
   "cell_type": "markdown",
   "metadata": {},
   "source": [
    "When the keys are simple strings, it is sometimes easier to specify pairs using keyword arguments (key=value)."
   ]
  },
  {
   "cell_type": "code",
   "execution_count": 12,
   "metadata": {},
   "outputs": [
    {
     "data": {
      "text/plain": [
       "{'key1': 1, 'key2': 2, 'key3': 3}"
      ]
     },
     "execution_count": 12,
     "metadata": {},
     "output_type": "execute_result"
    }
   ],
   "source": [
    "dict(key1=1, key2=2, key3=3)"
   ]
  },
  {
   "cell_type": "markdown",
   "metadata": {},
   "source": [
    "Combination of the brackets definition and the previous form:"
   ]
  },
  {
   "cell_type": "code",
   "execution_count": 14,
   "metadata": {},
   "outputs": [
    {
     "data": {
      "text/plain": [
       "{'key1': 1, 'key2': 3, 'key3': 3}"
      ]
     },
     "execution_count": 14,
     "metadata": {},
     "output_type": "execute_result"
    }
   ],
   "source": [
    "dict ({'key1': 1, 'key2': 3}, key3=3)"
   ]
  },
  {
   "cell_type": "markdown",
   "metadata": {},
   "source": [
    "<br/>"
   ]
  },
  {
   "cell_type": "markdown",
   "metadata": {},
   "source": [
    "### String Definition #3 - Dict Comprehension"
   ]
  },
  {
   "cell_type": "markdown",
   "metadata": {},
   "source": [
    "Set comprehension works in the same way as list comprehension, but excluding duplicated elements."
   ]
  },
  {
   "cell_type": "code",
   "execution_count": 15,
   "metadata": {},
   "outputs": [
    {
     "data": {
      "text/plain": [
       "{2: 4, 4: 16, 6: 36}"
      ]
     },
     "execution_count": 15,
     "metadata": {},
     "output_type": "execute_result"
    }
   ],
   "source": [
    "{x: x**2 for x in (2, 4, 6)}"
   ]
  },
  {
   "cell_type": "markdown",
   "metadata": {},
   "source": [
    "<br/>"
   ]
  },
  {
   "cell_type": "markdown",
   "metadata": {},
   "source": [
    "### String Definition #4 - Copy Dict"
   ]
  },
  {
   "cell_type": "markdown",
   "metadata": {},
   "source": [
    "See Problem #2"
   ]
  },
  {
   "cell_type": "markdown",
   "metadata": {},
   "source": [
    "<br/>"
   ]
  },
  {
   "cell_type": "markdown",
   "metadata": {},
   "source": [
    "### String Definition #5 - Dict Concatenation"
   ]
  },
  {
   "cell_type": "markdown",
   "metadata": {},
   "source": [
    "See Problem #3"
   ]
  },
  {
   "cell_type": "markdown",
   "metadata": {},
   "source": [
    "<br/>"
   ]
  },
  {
   "cell_type": "markdown",
   "metadata": {},
   "source": [
    "## Problem #2 - Different Ways to Copy a Dict in Python"
   ]
  },
  {
   "cell_type": "markdown",
   "metadata": {},
   "source": [
    "#### #2.1 - Exact copy:"
   ]
  },
  {
   "cell_type": "markdown",
   "metadata": {},
   "source": [
    "It creates dicts with same id's (references to same list object)."
   ]
  },
  {
   "cell_type": "code",
   "execution_count": 26,
   "metadata": {},
   "outputs": [
    {
     "name": "stdout",
     "output_type": "stream",
     "text": [
      "{'key1': 1, 'key2': 2, 'key3': 3}\n",
      "{'key1': 1, 'key2': 2, 'key3': 3}\n",
      "140450751065344\n",
      "140450751065344\n"
     ]
    }
   ],
   "source": [
    "dictionary = {'key1': 1, 'key2': 2, 'key3': 3}\n",
    "dictionary1 = dictionary\n",
    "\n",
    "print (dictionary)\n",
    "print (dictionary1)\n",
    "\n",
    "print (id(dictionary))\n",
    "print (id(dictionary1))"
   ]
  },
  {
   "cell_type": "markdown",
   "metadata": {},
   "source": [
    "Problem with exact copy is that if the elements of one list are changed, they affect all copies:"
   ]
  },
  {
   "cell_type": "code",
   "execution_count": 34,
   "metadata": {},
   "outputs": [
    {
     "name": "stdout",
     "output_type": "stream",
     "text": [
      "{'key1': 11, 'key2': 2, 'key3': 3}\n",
      "{'key1': 11, 'key2': 2, 'key3': 3}\n"
     ]
    }
   ],
   "source": [
    "dictionary = {'key1': 1, 'key2': 2, 'key3': 3}\n",
    "dictionary1 = dictionary\n",
    "\n",
    "dictionary['key1'] = 11\n",
    "\n",
    "print (dictionary)\n",
    "print (dictionary1)"
   ]
  },
  {
   "cell_type": "markdown",
   "metadata": {},
   "source": [
    "#### #2.2 - Shallow Copy"
   ]
  },
  {
   "cell_type": "markdown",
   "metadata": {},
   "source": [
    "It creates lists with different id's (different list objects).\n"
   ]
  },
  {
   "cell_type": "code",
   "execution_count": 40,
   "metadata": {},
   "outputs": [
    {
     "name": "stdout",
     "output_type": "stream",
     "text": [
      "{'key1': 1, 'key2': 2, 'key3': 3}\n",
      "{'key1': 1, 'key2': 2, 'key3': 3}\n",
      "140450751556928\n",
      "140450751554624\n"
     ]
    }
   ],
   "source": [
    "dictionary = {'key1': 1, 'key2': 2, 'key3': 3}\n",
    "dictionary2 = dictionary.copy()\n",
    "print (dictionary)\n",
    "print (dictionary2)\n",
    "\n",
    "print (id(dictionary))\n",
    "print (id(dictionary2))"
   ]
  },
  {
   "cell_type": "markdown",
   "metadata": {},
   "source": [
    "Shallow copy solves the problem with editing an element of the dict and affecting all dict copies, but only for immutable objects. If the dictionary contains mutable objects (e.g. lists), the references are also updated in all dictionary copies:"
   ]
  },
  {
   "cell_type": "code",
   "execution_count": 46,
   "metadata": {},
   "outputs": [
    {
     "name": "stdout",
     "output_type": "stream",
     "text": [
      "{'key1': [1], 'key2': [2], 'key3': [3]}\n",
      "{'key1': [1], 'key2': [2], 'key3': [3]}\n",
      "{'key1': [1], 'key2': [2], 'key3': [3]}\n",
      "\n",
      "{'key1': [1], 'key2': [22], 'key3': [3]}\n",
      "{'key1': [1], 'key2': [22], 'key3': [3]}\n",
      "{'key1': [1], 'key2': [2], 'key3': [3]}\n",
      "\n",
      "{'key1': [1], 'key2': [22], 'key3': [33]}\n",
      "{'key1': [1], 'key2': [22], 'key3': [33]}\n",
      "{'key1': [1], 'key2': [2], 'key3': [33]}\n"
     ]
    }
   ],
   "source": [
    "dictionary = {'key1': [1], 'key2': [2], 'key3': [3]}\n",
    "dictionary1 = dictionary\n",
    "dictionary2 = dictionary.copy()\n",
    "print (dictionary)\n",
    "print (dictionary1)\n",
    "print (dictionary2)\n",
    "\n",
    "# For changes in immmutable variables, exact copies replicate the original dict while shallow copies don't\n",
    "dictionary['key2'] = [22]\n",
    "print()\n",
    "print (dictionary)\n",
    "print (dictionary1)\n",
    "print (dictionary2)\n",
    "\n",
    "# For changes in mutable variables, both exact and shallow copies replicate the original dict\n",
    "dictionary['key3'][0] = 33\n",
    "print()\n",
    "print (dictionary)\n",
    "print (dictionary1)\n",
    "print (dictionary2)\n"
   ]
  },
  {
   "cell_type": "markdown",
   "metadata": {},
   "source": [
    "#### #2.3 - Deep Copy:"
   ]
  },
  {
   "cell_type": "markdown",
   "metadata": {},
   "source": [
    "Deep copy eliminates all the updating problems, creating independent copies of the original dict. For that, we make use of the library: copy"
   ]
  },
  {
   "cell_type": "code",
   "execution_count": 48,
   "metadata": {},
   "outputs": [
    {
     "name": "stdout",
     "output_type": "stream",
     "text": [
      "{'key1': [1], 'key2': [2], 'key3': [33]}\n",
      "{'key1': [1], 'key2': [2], 'key3': [33]}\n",
      "{'key1': [1], 'key2': [2], 'key3': [33]}\n",
      "{'key1': [1], 'key2': [2], 'key3': [3]}\n"
     ]
    }
   ],
   "source": [
    "import copy\n",
    "\n",
    "dictionary = {'key1': [1], 'key2': [2], 'key3': [3]}\n",
    "dictionary1 = dictionary\n",
    "dictionary2 = dictionary.copy()\n",
    "dictionary3 = copy.deepcopy(dictionary)\n",
    "\n",
    "dictionary['key3'][0] = 33\n",
    "print (dictionary)\n",
    "print (dictionary1)\n",
    "print (dictionary2)\n",
    "print (dictionary3)"
   ]
  },
  {
   "cell_type": "markdown",
   "metadata": {},
   "source": [
    "<br/>"
   ]
  },
  {
   "cell_type": "markdown",
   "metadata": {},
   "source": [
    "## Problem #3 - Merge Dictionaries in Python"
   ]
  },
  {
   "cell_type": "markdown",
   "metadata": {},
   "source": [
    "If we have 2 dictionaries and want to combine them into one, we can do this as shown below. Note that if the 2 dictionaries to combine have a key in common, the value for that key contained in the 2nd dictionary will be selected:"
   ]
  },
  {
   "cell_type": "code",
   "execution_count": 51,
   "metadata": {},
   "outputs": [
    {
     "name": "stdout",
     "output_type": "stream",
     "text": [
      "{'a': 1, 'b': 3, 'c': 4}\n"
     ]
    }
   ],
   "source": [
    "x = {'a':1, 'b':2}\n",
    "y = {'b':3, 'c':4}\n",
    "z = {**x, **y}\n",
    "print(z)"
   ]
  },
  {
   "cell_type": "markdown",
   "metadata": {},
   "source": [
    "<br/>"
   ]
  },
  {
   "cell_type": "markdown",
   "metadata": {},
   "source": [
    "## Problem #4 - Dictionary Iteration"
   ]
  },
  {
   "cell_type": "markdown",
   "metadata": {},
   "source": [
    "### #4.1 - Key Iteration"
   ]
  },
  {
   "cell_type": "markdown",
   "metadata": {},
   "source": [
    "By default, python iterates through dict keys:"
   ]
  },
  {
   "cell_type": "code",
   "execution_count": 52,
   "metadata": {},
   "outputs": [
    {
     "name": "stdout",
     "output_type": "stream",
     "text": [
      "a b "
     ]
    }
   ],
   "source": [
    "x = {'a':1, 'b':2}\n",
    "for e in x:\n",
    "    print(e,end=\" \")"
   ]
  },
  {
   "cell_type": "code",
   "execution_count": 54,
   "metadata": {},
   "outputs": [
    {
     "name": "stdout",
     "output_type": "stream",
     "text": [
      "a b\n"
     ]
    }
   ],
   "source": [
    "print (*x)"
   ]
  },
  {
   "cell_type": "markdown",
   "metadata": {},
   "source": [
    "### #4.2 - Value Iteration"
   ]
  },
  {
   "cell_type": "markdown",
   "metadata": {},
   "source": [
    "In order to iterate through values, we must explicitly specify so:"
   ]
  },
  {
   "cell_type": "code",
   "execution_count": 55,
   "metadata": {},
   "outputs": [
    {
     "name": "stdout",
     "output_type": "stream",
     "text": [
      "1 2 "
     ]
    }
   ],
   "source": [
    "x = {'a':1, 'b':2}\n",
    "for e in x.values():\n",
    "    print(e,end=\" \")"
   ]
  },
  {
   "cell_type": "markdown",
   "metadata": {},
   "source": [
    "### #4.3 - Key & Value Iteration"
   ]
  },
  {
   "cell_type": "markdown",
   "metadata": {},
   "source": [
    "In order to iterate through both keys and values at the same time, we can make use of the following syntax:"
   ]
  },
  {
   "cell_type": "code",
   "execution_count": 62,
   "metadata": {},
   "outputs": [
    {
     "name": "stdout",
     "output_type": "stream",
     "text": [
      "('a', 1)\n",
      "('b', 2)\n"
     ]
    }
   ],
   "source": [
    "x = {'a':1, 'b':2}\n",
    "for item in x.items():          # Keys & Values as touples\n",
    "    print(item)"
   ]
  },
  {
   "cell_type": "code",
   "execution_count": 63,
   "metadata": {},
   "outputs": [
    {
     "name": "stdout",
     "output_type": "stream",
     "text": [
      "a 1\n",
      "b 2\n"
     ]
    }
   ],
   "source": [
    "x = {'a':1, 'b':2}\n",
    "for key,value in x.items():     # Keys & Values as separate items\n",
    "    print(key, value)"
   ]
  },
  {
   "cell_type": "markdown",
   "metadata": {},
   "source": [
    "<br/>"
   ]
  },
  {
   "cell_type": "markdown",
   "metadata": {},
   "source": [
    "## Problem #5 - Check if a Key/Value is in a Dictionary"
   ]
  },
  {
   "cell_type": "markdown",
   "metadata": {},
   "source": [
    "### #5.1) Check if Key is in a Dictionary"
   ]
  },
  {
   "cell_type": "markdown",
   "metadata": {},
   "source": [
    "This has O(1) time."
   ]
  },
  {
   "cell_type": "code",
   "execution_count": 74,
   "metadata": {},
   "outputs": [
    {
     "name": "stdout",
     "output_type": "stream",
     "text": [
      "{'a': 1, 'b': 2}\n",
      "a is in dictionary x\n",
      "c is not dictionary x\n"
     ]
    }
   ],
   "source": [
    "x = {'a':1, 'b':2}\n",
    "print(x)\n",
    "\n",
    "if 'a' in x:\n",
    "    print (\"a is in dictionary x\")\n",
    "\n",
    "if not 'c' in x:\n",
    "    print (\"c is not dictionary x\")\n"
   ]
  },
  {
   "cell_type": "markdown",
   "metadata": {},
   "source": [
    "### #5.2) Check if Value is in a Dict"
   ]
  },
  {
   "cell_type": "markdown",
   "metadata": {},
   "source": [
    "This has O(n) time, being n the number of pairs key-value in the dictionary."
   ]
  },
  {
   "cell_type": "code",
   "execution_count": 73,
   "metadata": {},
   "outputs": [
    {
     "name": "stdout",
     "output_type": "stream",
     "text": [
      "{'a': 1, 'b': 2}\n",
      "1 is in dictionary x\n",
      "3 is not dictionary x\n"
     ]
    }
   ],
   "source": [
    "x = {'a':1, 'b':2}\n",
    "print(x)\n",
    "\n",
    "if 1 in x.values():\n",
    "    print (\"1 is in dictionary x\")\n",
    "\n",
    "if not 3 in x.values():\n",
    "    print (\"3 is not dictionary x\")\n"
   ]
  },
  {
   "cell_type": "markdown",
   "metadata": {},
   "source": [
    " "
   ]
  },
  {
   "cell_type": "markdown",
   "metadata": {},
   "source": [
    "## Problem #6 - Sort Dictionary by Key/Value"
   ]
  },
  {
   "cell_type": "markdown",
   "metadata": {},
   "source": [
    "### #6.1) Sort Dictionary by Key"
   ]
  },
  {
   "cell_type": "markdown",
   "metadata": {},
   "source": [
    "This can be done using the built-in function sorted():\n",
    "- dict.items() returns a list of tuples with (key,value)\n",
    "- sorted() sorts the previous list of tuples, in descending order\n",
    "- dict() creates a dictionary out of the previous sorted list of tuples"
   ]
  },
  {
   "cell_type": "code",
   "execution_count": 84,
   "metadata": {},
   "outputs": [
    {
     "data": {
      "text/plain": [
       "{1: 'Jill', 2: 'Jack', 3: 'Jim', 4: 'Jane'}"
      ]
     },
     "execution_count": 84,
     "metadata": {},
     "output_type": "execute_result"
    }
   ],
   "source": [
    "people = {3: \"Jim\", 2: \"Jack\", 4: \"Jane\", 1: \"Jill\"}\n",
    "\n",
    "# Sort by key\n",
    "dict(sorted(people.items()))"
   ]
  },
  {
   "cell_type": "markdown",
   "metadata": {},
   "source": [
    "Additionally, it can also be done manually with dict comprehension:"
   ]
  },
  {
   "cell_type": "code",
   "execution_count": 87,
   "metadata": {},
   "outputs": [
    {
     "name": "stdout",
     "output_type": "stream",
     "text": [
      "{1: 'Jill', 2: 'Jack', 3: 'Jim', 4: 'Jane'}\n"
     ]
    }
   ],
   "source": [
    "myDict = {3: \"Jim\", 2: \"Jack\", 4: \"Jane\", 1: \"Jill\"}\n",
    "myKeys = list(myDict.keys())\n",
    "myKeys.sort()\n",
    "sorted_dict = {i: myDict[i] for i in myKeys}\n",
    " \n",
    "print(sorted_dict)"
   ]
  },
  {
   "cell_type": "markdown",
   "metadata": {},
   "source": [
    "### #6.2) Sort Dictionary by Value"
   ]
  },
  {
   "cell_type": "markdown",
   "metadata": {},
   "source": [
    "In order to sort a Dictionary by its values:\n",
    "- dict.items() returns a list of tuples with (key,value)\n",
    "- sorted() sorts the previous list of tuples by the second entry, in descending order\n",
    "- "
   ]
  },
  {
   "cell_type": "code",
   "execution_count": 89,
   "metadata": {},
   "outputs": [
    {
     "data": {
      "text/plain": [
       "{2: 'Jack', 4: 'Jane', 1: 'Jill', 3: 'Jim'}"
      ]
     },
     "execution_count": 89,
     "metadata": {},
     "output_type": "execute_result"
    }
   ],
   "source": [
    "people = {3: \"Jim\", 2: \"Jack\", 4: \"Jane\", 1: \"Jill\"}\n",
    "\n",
    "# Sort by value\n",
    "dict(sorted(people.items(), key=lambda item: item[1]))"
   ]
  },
  {
   "cell_type": "markdown",
   "metadata": {},
   "source": [
    " "
   ]
  },
  {
   "cell_type": "markdown",
   "metadata": {},
   "source": [
    "## Problem #7 - Store frequency of characters in a Dict"
   ]
  },
  {
   "cell_type": "code",
   "execution_count": 78,
   "metadata": {},
   "outputs": [
    {
     "name": "stdout",
     "output_type": "stream",
     "text": [
      "{1: 5, 5: 2, 3: 3, 4: 3, 2: 4}\n"
     ]
    }
   ],
   "source": [
    "my_list = [1, 1, 1, 5, 5, 3, 1, 3, 3, 1, 4, 4, 4, 2, 2, 2, 2]\n",
    "freq = {}\n",
    "for item in my_list:\n",
    "    if (item in freq):\n",
    "        freq[item] += 1\n",
    "    else:\n",
    "        freq[item] = 1\n",
    "        \n",
    "print (freq)"
   ]
  },
  {
   "cell_type": "markdown",
   "metadata": {},
   "source": [
    "<br/>"
   ]
  }
 ],
 "metadata": {
  "kernelspec": {
   "display_name": "Python 3 (ipykernel)",
   "language": "python",
   "name": "python3"
  },
  "language_info": {
   "codemirror_mode": {
    "name": "ipython",
    "version": 3
   },
   "file_extension": ".py",
   "mimetype": "text/x-python",
   "name": "python",
   "nbconvert_exporter": "python",
   "pygments_lexer": "ipython3",
   "version": "3.9.7"
  }
 },
 "nbformat": 4,
 "nbformat_minor": 4
}
