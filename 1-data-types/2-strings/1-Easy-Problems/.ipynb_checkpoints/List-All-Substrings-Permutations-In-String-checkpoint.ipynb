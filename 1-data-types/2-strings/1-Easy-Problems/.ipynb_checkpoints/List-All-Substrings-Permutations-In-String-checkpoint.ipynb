{
 "cells": [
  {
   "cell_type": "markdown",
   "id": "db507a00",
   "metadata": {},
   "source": [
    "# Problem - List all Substring Permutations Cointained in String"
   ]
  },
  {
   "cell_type": "markdown",
   "id": "5a9bfa82",
   "metadata": {},
   "source": [
    "### Category: Strings\n",
    "### Difficulty: Easy"
   ]
  },
  {
   "cell_type": "markdown",
   "id": "80ec3d8b",
   "metadata": {},
   "source": [
    "\n"
   ]
  },
  {
   "cell_type": "markdown",
   "id": "960ef97c",
   "metadata": {},
   "source": [
    "## Problem Description"
   ]
  },
  {
   "cell_type": "markdown",
   "id": "aa7fbd1b",
   "metadata": {},
   "source": [
    "You're given one string as input. Write a function that lists all the substrings permutations that can be found within that string. <br/>\n",
    "As illustrated in the example below:\n",
    "- Permutations don't need to be contiguous substrings\n",
    "- In permutations, the order doesn't matter (\"ca\" is considered as the same combination as \"ac\")"
   ]
  },
  {
   "cell_type": "markdown",
   "id": "2cdcf792",
   "metadata": {},
   "source": [
    "Example:\n",
    "- string = \"cat\"\n",
    "- Substrings:\n",
    "    - c\n",
    "    - a\n",
    "    - ca\n",
    "    - t\n",
    "    - ct\n",
    "    - at\n",
    "    - cat"
   ]
  },
  {
   "cell_type": "markdown",
   "id": "29b012a3",
   "metadata": {},
   "source": [
    " "
   ]
  },
  {
   "cell_type": "markdown",
   "id": "d5eaa9a6",
   "metadata": {},
   "source": [
    " "
   ]
  },
  {
   "cell_type": "markdown",
   "id": "c9c34464",
   "metadata": {},
   "source": [
    "## Problem Solution"
   ]
  },
  {
   "cell_type": "markdown",
   "id": "97f13d95",
   "metadata": {},
   "source": [
    "#### Solution #1 -  Add each substring of string to new list, and combine it with all the existing elements in that list"
   ]
  },
  {
   "cell_type": "code",
   "execution_count": 2,
   "id": "9fc41aeb",
   "metadata": {
    "scrolled": true
   },
   "outputs": [],
   "source": [
    "def lsp(s):\n",
    "    spl = [\"\"]\n",
    "    for c in s:\n",
    "        spl += [e+c for e in spl]\n",
    "    return spl"
   ]
  },
  {
   "cell_type": "code",
   "execution_count": 3,
   "id": "defd2b1d",
   "metadata": {
    "scrolled": true
   },
   "outputs": [
    {
     "name": "stdout",
     "output_type": "stream",
     "text": [
      "['', 'c', 'a', 'ca', 't', 'ct', 'at', 'cat']\n"
     ]
    }
   ],
   "source": [
    "string = \"cat\"\n",
    "print (lsp(string))"
   ]
  },
  {
   "cell_type": "markdown",
   "id": "fa10a2dc",
   "metadata": {},
   "source": [
    "Other options:"
   ]
  },
  {
   "cell_type": "code",
   "execution_count": 4,
   "id": "edcb7574",
   "metadata": {},
   "outputs": [],
   "source": [
    "def lsp1(s):\n",
    "    l = [\"\"]\n",
    "    for c in s:\n",
    "        for ss in range(len(l)):\n",
    "            l.append(l[ss]+c)\n",
    "    return l"
   ]
  },
  {
   "cell_type": "markdown",
   "id": "501a789a",
   "metadata": {},
   "source": [
    " "
   ]
  }
 ],
 "metadata": {
  "kernelspec": {
   "display_name": "Python 3 (ipykernel)",
   "language": "python",
   "name": "python3"
  },
  "language_info": {
   "codemirror_mode": {
    "name": "ipython",
    "version": 3
   },
   "file_extension": ".py",
   "mimetype": "text/x-python",
   "name": "python",
   "nbconvert_exporter": "python",
   "pygments_lexer": "ipython3",
   "version": "3.11.5"
  }
 },
 "nbformat": 4,
 "nbformat_minor": 5
}
