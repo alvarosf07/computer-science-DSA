{
 "cells": [
  {
   "cell_type": "markdown",
   "id": "db507a00",
   "metadata": {},
   "source": [
    "# Problem - Check Parenthesis Correctness"
   ]
  },
  {
   "cell_type": "markdown",
   "id": "5a9bfa82",
   "metadata": {},
   "source": [
    "### Category: Strings\n",
    "### Difficulty: Easy"
   ]
  },
  {
   "cell_type": "markdown",
   "id": "80ec3d8b",
   "metadata": {},
   "source": [
    "\n"
   ]
  },
  {
   "cell_type": "markdown",
   "id": "960ef97c",
   "metadata": {},
   "source": [
    "## Problem Description"
   ]
  },
  {
   "cell_type": "markdown",
   "id": "aa7fbd1b",
   "metadata": {},
   "source": [
    "You're given one string as input. The input may contain any arbitrary number of parenthesis of 3 types: (), {}, []. <br/>\n",
    "Write a function that returns true if the order of the parenthesis is correct, and false if not. <br/>"
   ]
  },
  {
   "cell_type": "markdown",
   "id": "2cdcf792",
   "metadata": {},
   "source": [
    "Example:\n",
    "- string = \"(][\". Function should return false because the first parenthesis is never closed, and the second one is closed before openned.\n",
    "- string = \"([]{}[{}])\". Function should return true because all parenthesis are open and closed, and in the right order.\n"
   ]
  },
  {
   "cell_type": "markdown",
   "id": "29b012a3",
   "metadata": {},
   "source": [
    " "
   ]
  },
  {
   "cell_type": "markdown",
   "id": "d5eaa9a6",
   "metadata": {},
   "source": [
    " "
   ]
  },
  {
   "cell_type": "markdown",
   "id": "c9c34464",
   "metadata": {},
   "source": [
    "## Problem Solution"
   ]
  },
  {
   "cell_type": "markdown",
   "id": "97f13d95",
   "metadata": {},
   "source": [
    "#### Solution #1 -  Use stack"
   ]
  },
  {
   "cell_type": "code",
   "execution_count": 1,
   "id": "9fc41aeb",
   "metadata": {
    "scrolled": true
   },
   "outputs": [],
   "source": [
    "def cpc(s):\n",
    "        stack = [0]\n",
    "        dict = {0: None, '(':')', '[':']', '{':'}'}\n",
    "        for c in s:\n",
    "            if c in dict:\n",
    "                stack.append(c)\n",
    "            else:\n",
    "                if dict[stack.pop()] != c: return False\n",
    "        return stack == [0]"
   ]
  },
  {
   "cell_type": "code",
   "execution_count": 5,
   "id": "defd2b1d",
   "metadata": {
    "scrolled": true
   },
   "outputs": [
    {
     "name": "stdout",
     "output_type": "stream",
     "text": [
      "False\n",
      "True\n"
     ]
    }
   ],
   "source": [
    "print (cpc(\"(][\"))\n",
    "print (cpc(\"([]{}[{}])\"))"
   ]
  },
  {
   "cell_type": "markdown",
   "id": "501a789a",
   "metadata": {},
   "source": [
    " "
   ]
  }
 ],
 "metadata": {
  "kernelspec": {
   "display_name": "Python 3 (ipykernel)",
   "language": "python",
   "name": "python3"
  },
  "language_info": {
   "codemirror_mode": {
    "name": "ipython",
    "version": 3
   },
   "file_extension": ".py",
   "mimetype": "text/x-python",
   "name": "python",
   "nbconvert_exporter": "python",
   "pygments_lexer": "ipython3",
   "version": "3.11.5"
  }
 },
 "nbformat": 4,
 "nbformat_minor": 5
}
