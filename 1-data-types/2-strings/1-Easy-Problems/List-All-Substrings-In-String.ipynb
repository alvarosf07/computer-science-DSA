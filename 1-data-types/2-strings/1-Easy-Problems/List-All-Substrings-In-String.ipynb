{
 "cells": [
  {
   "cell_type": "markdown",
   "id": "db507a00",
   "metadata": {},
   "source": [
    "# Problem #4 - List all Substrings Cointained in String"
   ]
  },
  {
   "cell_type": "markdown",
   "id": "5a9bfa82",
   "metadata": {},
   "source": [
    "### Category: Strings\n",
    "### Difficulty: Easy"
   ]
  },
  {
   "cell_type": "markdown",
   "id": "80ec3d8b",
   "metadata": {},
   "source": [
    "\n"
   ]
  },
  {
   "cell_type": "markdown",
   "id": "960ef97c",
   "metadata": {},
   "source": [
    "## Problem Description"
   ]
  },
  {
   "cell_type": "markdown",
   "id": "aa7fbd1b",
   "metadata": {},
   "source": [
    "You're given one string as input. Write a function that lists all the (contiguous) substrings that can be found within that string."
   ]
  },
  {
   "cell_type": "markdown",
   "id": "2cdcf792",
   "metadata": {},
   "source": [
    "Example:\n",
    "- string = \"easy\"\n",
    "- Substrings:\n",
    "    - e\n",
    "    - ea\n",
    "    - eas\n",
    "    - easy\n",
    "    - a\n",
    "    - as\n",
    "    - asy\n",
    "    - s\n",
    "    - sy\n",
    "    - y"
   ]
  },
  {
   "cell_type": "markdown",
   "id": "29b012a3",
   "metadata": {},
   "source": [
    " "
   ]
  },
  {
   "cell_type": "markdown",
   "id": "d5eaa9a6",
   "metadata": {},
   "source": [
    " "
   ]
  },
  {
   "cell_type": "markdown",
   "id": "c9c34464",
   "metadata": {},
   "source": [
    "## Problem Solution"
   ]
  },
  {
   "cell_type": "markdown",
   "id": "97f13d95",
   "metadata": {},
   "source": [
    "#### Solution #1 -  List first all substrings of length 1, then of length 2... "
   ]
  },
  {
   "cell_type": "code",
   "execution_count": 3,
   "id": "9fc41aeb",
   "metadata": {
    "scrolled": true
   },
   "outputs": [],
   "source": [
    "def lcs(s):\n",
    "    return [s[i:i+l] for l in range (1,len(s)+1) for i in range(len(s)+1-l)]"
   ]
  },
  {
   "cell_type": "code",
   "execution_count": 4,
   "id": "defd2b1d",
   "metadata": {
    "scrolled": true
   },
   "outputs": [
    {
     "name": "stdout",
     "output_type": "stream",
     "text": [
      "['e', 'a', 's', 'y', 'ea', 'as', 'sy', 'eas', 'asy', 'easy']\n"
     ]
    }
   ],
   "source": [
    "string = \"easy\"\n",
    "print (lcs(string))"
   ]
  },
  {
   "cell_type": "markdown",
   "id": "fa10a2dc",
   "metadata": {},
   "source": [
    "Other options:"
   ]
  },
  {
   "cell_type": "code",
   "execution_count": 5,
   "id": "edcb7574",
   "metadata": {},
   "outputs": [],
   "source": [
    "def lcs1(s):\n",
    "    return [s[i:i+l] for l in range(1,len(s)+1) for i in range(len(s)) if i+l<=len(s)]"
   ]
  },
  {
   "cell_type": "code",
   "execution_count": 6,
   "id": "698af9c7",
   "metadata": {},
   "outputs": [],
   "source": [
    "def lcs2(s):\n",
    "    return [s[i:i+l] for l in range(1,len(s)+1) for i in range (len(s)) if len(s[i:i+l]) == l]"
   ]
  },
  {
   "cell_type": "markdown",
   "id": "501a789a",
   "metadata": {},
   "source": [
    " "
   ]
  },
  {
   "cell_type": "markdown",
   "id": "eb5d1fc3",
   "metadata": {},
   "source": [
    "#### Solution #2 - Loop over all substrings of given string, and list all substrings till the end"
   ]
  },
  {
   "cell_type": "markdown",
   "id": "48c1d12b",
   "metadata": {},
   "source": [
    "This algorithm would follow the same order as in the example provided. It hasn't been implemented because it's less intuitive to code and doesn't improve the efficiency of the first solution."
   ]
  }
 ],
 "metadata": {
  "kernelspec": {
   "display_name": "Python 3 (ipykernel)",
   "language": "python",
   "name": "python3"
  },
  "language_info": {
   "codemirror_mode": {
    "name": "ipython",
    "version": 3
   },
   "file_extension": ".py",
   "mimetype": "text/x-python",
   "name": "python",
   "nbconvert_exporter": "python",
   "pygments_lexer": "ipython3",
   "version": "3.11.5"
  }
 },
 "nbformat": 4,
 "nbformat_minor": 5
}
