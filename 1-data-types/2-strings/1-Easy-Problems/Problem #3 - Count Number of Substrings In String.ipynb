{
 "cells": [
  {
   "cell_type": "markdown",
   "id": "db507a00",
   "metadata": {},
   "source": [
    "# Problem #3 - Count Number of Times Substring is Contained in String"
   ]
  },
  {
   "cell_type": "markdown",
   "id": "5a9bfa82",
   "metadata": {},
   "source": [
    "### Category: Strings\n",
    "### Difficulty: Easy"
   ]
  },
  {
   "cell_type": "markdown",
   "id": "80ec3d8b",
   "metadata": {},
   "source": [
    "\n"
   ]
  },
  {
   "cell_type": "markdown",
   "id": "960ef97c",
   "metadata": {},
   "source": [
    "## Problem Description"
   ]
  },
  {
   "cell_type": "markdown",
   "id": "aa7fbd1b",
   "metadata": {},
   "source": [
    "You're given one string and a substring as inputs. Write a function to count the number of times the string contains the substring.\n"
   ]
  },
  {
   "cell_type": "markdown",
   "id": "29b012a3",
   "metadata": {},
   "source": [
    " "
   ]
  },
  {
   "cell_type": "markdown",
   "id": "d5eaa9a6",
   "metadata": {},
   "source": [
    " "
   ]
  },
  {
   "cell_type": "markdown",
   "id": "c9c34464",
   "metadata": {},
   "source": [
    "## Problem Solution"
   ]
  },
  {
   "cell_type": "markdown",
   "id": "97f13d95",
   "metadata": {},
   "source": [
    "#### Solution #1 -  Sliding Window (for loop)"
   ]
  },
  {
   "cell_type": "code",
   "execution_count": 9,
   "id": "9fc41aeb",
   "metadata": {
    "scrolled": true
   },
   "outputs": [],
   "source": [
    "def n_substrings (s, ss):\n",
    "    n = 0\n",
    "    \n",
    "    for i in range(len(s)-len(ss)):\n",
    "        if s[i:i+len(ss)] == ss:\n",
    "            n += 1\n",
    "            \n",
    "    return n"
   ]
  },
  {
   "cell_type": "markdown",
   "id": "eb5d1fc3",
   "metadata": {},
   "source": [
    "#### Solution #2 - Sliding Window (One-liner)"
   ]
  },
  {
   "cell_type": "code",
   "execution_count": 6,
   "id": "dc06f8b1",
   "metadata": {
    "collapsed": true,
    "scrolled": true
   },
   "outputs": [],
   "source": [
    "def count_substring (string, ss):\n",
    "    return len([s[i:i+len(ss)] for i in range(len(s)-len(ss)) if s[i:i+len(ss)]==ss])"
   ]
  }
 ],
 "metadata": {
  "kernelspec": {
   "display_name": "Python 3 (ipykernel)",
   "language": "python",
   "name": "python3"
  },
  "language_info": {
   "codemirror_mode": {
    "name": "ipython",
    "version": 3
   },
   "file_extension": ".py",
   "mimetype": "text/x-python",
   "name": "python",
   "nbconvert_exporter": "python",
   "pygments_lexer": "ipython3",
   "version": "3.11.5"
  }
 },
 "nbformat": 4,
 "nbformat_minor": 5
}
