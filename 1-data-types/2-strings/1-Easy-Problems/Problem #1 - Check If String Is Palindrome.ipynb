{
 "cells": [
  {
   "cell_type": "markdown",
   "id": "db507a00",
   "metadata": {},
   "source": [
    "# Problem #1 - Check if String is a Palindrome"
   ]
  },
  {
   "cell_type": "markdown",
   "id": "5a9bfa82",
   "metadata": {},
   "source": [
    "### Category: Strings\n",
    "### Difficulty: Easy"
   ]
  },
  {
   "cell_type": "markdown",
   "id": "80ec3d8b",
   "metadata": {},
   "source": [
    "\n"
   ]
  },
  {
   "cell_type": "markdown",
   "id": "960ef97c",
   "metadata": {},
   "source": [
    "## Problem Description"
   ]
  },
  {
   "cell_type": "markdown",
   "id": "aa7fbd1b",
   "metadata": {},
   "source": [
    "You're given one string as input. Write a function that returns true if the string is a palindrome, and false if not. <br/>\n",
    "A palindrome is a string that is the same forward and backward."
   ]
  },
  {
   "cell_type": "markdown",
   "id": "2cdcf792",
   "metadata": {},
   "source": [
    "Example:\n",
    "- string = \"level\"\n",
    "- Because \"level\" is equal forward and backward, function should return true\n"
   ]
  },
  {
   "cell_type": "markdown",
   "id": "29b012a3",
   "metadata": {},
   "source": [
    " "
   ]
  },
  {
   "cell_type": "markdown",
   "id": "d5eaa9a6",
   "metadata": {},
   "source": [
    " "
   ]
  },
  {
   "cell_type": "markdown",
   "id": "c9c34464",
   "metadata": {},
   "source": [
    "## Problem Solution"
   ]
  },
  {
   "cell_type": "markdown",
   "id": "97f13d95",
   "metadata": {},
   "source": [
    "#### Solution #1 -  Use string slicing"
   ]
  },
  {
   "cell_type": "code",
   "execution_count": 3,
   "id": "9fc41aeb",
   "metadata": {
    "scrolled": true
   },
   "outputs": [],
   "source": [
    "def cip (s):\n",
    "    return s == s[::-1]"
   ]
  },
  {
   "cell_type": "code",
   "execution_count": 4,
   "id": "defd2b1d",
   "metadata": {
    "scrolled": true
   },
   "outputs": [
    {
     "name": "stdout",
     "output_type": "stream",
     "text": [
      "False\n",
      "True\n"
     ]
    }
   ],
   "source": [
    "print (cip(\"easy\"))\n",
    "print (cip(\"level\"))"
   ]
  },
  {
   "cell_type": "markdown",
   "id": "fa10a2dc",
   "metadata": {},
   "source": [
    "Same but checking for lowercase and alphanumeric values:"
   ]
  },
  {
   "cell_type": "code",
   "execution_count": 5,
   "id": "edcb7574",
   "metadata": {},
   "outputs": [],
   "source": [
    "def cip (s):\n",
    "    s = [i for i in s.lower() if i.isalnum()]\n",
    "    return s == s[::-1]"
   ]
  },
  {
   "cell_type": "markdown",
   "id": "501a789a",
   "metadata": {},
   "source": [
    " "
   ]
  },
  {
   "cell_type": "markdown",
   "id": "eb5d1fc3",
   "metadata": {},
   "source": [
    "#### Solution #2 - Manual way: check if first half of the word is equal to second half"
   ]
  },
  {
   "cell_type": "code",
   "execution_count": 9,
   "id": "e26c29ff",
   "metadata": {},
   "outputs": [],
   "source": [
    "def cip1 (s):\n",
    "    for i in range (len(s)):\n",
    "        if s[i] != s[-i-1]: return False\n",
    "        if i>= len(s)/2 - 1: return True"
   ]
  },
  {
   "cell_type": "code",
   "execution_count": 8,
   "id": "6a01dc76",
   "metadata": {},
   "outputs": [],
   "source": [
    "def cip2 (s):\n",
    "    i = 0\n",
    "    while i <= len(s)/2 -1:\n",
    "        if s[i] != s[-i-1]: return False\n",
    "        i += 1\n",
    "    return True"
   ]
  }
 ],
 "metadata": {
  "kernelspec": {
   "display_name": "Python 3 (ipykernel)",
   "language": "python",
   "name": "python3"
  },
  "language_info": {
   "codemirror_mode": {
    "name": "ipython",
    "version": 3
   },
   "file_extension": ".py",
   "mimetype": "text/x-python",
   "name": "python",
   "nbconvert_exporter": "python",
   "pygments_lexer": "ipython3",
   "version": "3.11.5"
  }
 },
 "nbformat": 4,
 "nbformat_minor": 5
}
