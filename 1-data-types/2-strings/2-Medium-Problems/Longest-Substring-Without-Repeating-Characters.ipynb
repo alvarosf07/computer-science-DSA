{
 "cells": [
  {
   "cell_type": "markdown",
   "id": "db507a00",
   "metadata": {},
   "source": [
    "# Problem - Longest Substring Without Repeating Characters"
   ]
  },
  {
   "cell_type": "markdown",
   "id": "5a9bfa82",
   "metadata": {},
   "source": [
    "### Category: Strings\n",
    "### Difficulty: Medium"
   ]
  },
  {
   "cell_type": "markdown",
   "id": "80ec3d8b",
   "metadata": {},
   "source": [
    "\n"
   ]
  },
  {
   "cell_type": "markdown",
   "id": "960ef97c",
   "metadata": {},
   "source": [
    "## Problem Description"
   ]
  },
  {
   "cell_type": "markdown",
   "id": "aa7fbd1b",
   "metadata": {},
   "source": [
    "You're given one string as input. Write a function that calculates the longest substring without repeating characters."
   ]
  },
  {
   "cell_type": "markdown",
   "id": "2cdcf792",
   "metadata": {},
   "source": [
    "Example:\n",
    "- string = \"faslfadjfad\"\n",
    "- output: 6  (longest substring is \"slfadj\""
   ]
  },
  {
   "cell_type": "markdown",
   "id": "29b012a3",
   "metadata": {},
   "source": [
    " "
   ]
  },
  {
   "cell_type": "markdown",
   "id": "d5eaa9a6",
   "metadata": {},
   "source": [
    " "
   ]
  },
  {
   "cell_type": "markdown",
   "id": "c9c34464",
   "metadata": {},
   "source": [
    "## Problem Solution"
   ]
  },
  {
   "cell_type": "markdown",
   "id": "97f13d95",
   "metadata": {},
   "source": [
    "#### Solution #1 -  List all substrings from highest length to lowest, and return the first substring without repeating character"
   ]
  },
  {
   "cell_type": "code",
   "execution_count": 6,
   "id": "9fc41aeb",
   "metadata": {
    "scrolled": true
   },
   "outputs": [],
   "source": [
    "def lengthLongestNonRepSubstring(s: str) -> int:\n",
    "    for l in range (len(s),0,-1):\n",
    "        for i in range(len(s)+1-l):  \n",
    "            if l==len(set(s[i:i+l])):\n",
    "                return l\n",
    "    return 0"
   ]
  },
  {
   "cell_type": "code",
   "execution_count": 7,
   "id": "defd2b1d",
   "metadata": {
    "scrolled": true
   },
   "outputs": [
    {
     "name": "stdout",
     "output_type": "stream",
     "text": [
      "6\n"
     ]
    }
   ],
   "source": [
    "string = \"faslfadjfad\"\n",
    "print (lengthLongestNonRepSubstring(string))"
   ]
  },
  {
   "cell_type": "markdown",
   "id": "1ecbd79f",
   "metadata": {},
   "source": [
    "This solution is not computationally efficient because it uses 2 loops (O(n^2))."
   ]
  },
  {
   "cell_type": "markdown",
   "id": "501a789a",
   "metadata": {},
   "source": [
    " "
   ]
  },
  {
   "cell_type": "markdown",
   "id": "eb5d1fc3",
   "metadata": {},
   "source": [
    "#### Solution #2 - Solution with good memory complexity but bad time complexity:"
   ]
  },
  {
   "cell_type": "markdown",
   "id": "48c1d12b",
   "metadata": {},
   "source": [
    "This is a solution with good memory complexity but bad time complexity:"
   ]
  },
  {
   "cell_type": "code",
   "execution_count": 14,
   "id": "dd2a5dd4",
   "metadata": {},
   "outputs": [],
   "source": [
    "def lengthLongestNonRepSubstring1(s: str) -> int:\n",
    "    i = 0\n",
    "    lls = 0\n",
    "    cswrc = {}\n",
    "    while i < len(s):\n",
    "        #print (f\"letter: {s[i]} - {i}\")\n",
    "        if s[i] not in cswrc:\n",
    "            cswrc[s[i]] = i\n",
    "            if len(cswrc)> lls: lls = len(cswrc)\n",
    "            i += 1\n",
    "        else:\n",
    "            if len(cswrc)> lls: lls = len(cswrc)\n",
    "            i = cswrc[s[i]]+1\n",
    "            cswrc = {}\n",
    "    return lls"
   ]
  },
  {
   "cell_type": "code",
   "execution_count": 15,
   "id": "5b7ad08e",
   "metadata": {
    "scrolled": true
   },
   "outputs": [
    {
     "name": "stdout",
     "output_type": "stream",
     "text": [
      "6\n"
     ]
    }
   ],
   "source": [
    "string = \"faslfadjfad\"\n",
    "print (lengthLongestNonRepSubstring1(string))"
   ]
  },
  {
   "cell_type": "markdown",
   "id": "5e838982",
   "metadata": {},
   "source": [
    " "
   ]
  },
  {
   "cell_type": "markdown",
   "id": "7d7417b0",
   "metadata": {},
   "source": [
    "#### Solution #3 - Two-Pointers Solution (Moving Dictionary)"
   ]
  },
  {
   "cell_type": "markdown",
   "id": "553f8aa2",
   "metadata": {},
   "source": [
    "This is a solution with good memory complexity but bad time complexity:"
   ]
  },
  {
   "cell_type": "code",
   "execution_count": 20,
   "id": "1ad60369",
   "metadata": {},
   "outputs": [],
   "source": [
    "def lengthLongestNonRepSubstring2(s: str) -> int:\n",
    "        cs = {}\n",
    "        b = 0\n",
    "        maxl = 0\n",
    "\n",
    "        if s==\"\": return 0\n",
    "        for i in range (len(s)):\n",
    "            if s[i] not in cs:\n",
    "                cs[s[i]]=i\n",
    "                if len(cs)>maxl: maxl=len(cs)\n",
    "            else:\n",
    "                if len(cs)>maxl: maxl=len(cs)\n",
    "                b = cs[s[i]]+1\n",
    "                cs = {key:val for key, val in cs.items() if val>=b}\n",
    "                cs[s[i]]=i\n",
    "\n",
    "        return maxl"
   ]
  },
  {
   "cell_type": "code",
   "execution_count": 21,
   "id": "2b91f3ae",
   "metadata": {
    "scrolled": true
   },
   "outputs": [
    {
     "name": "stdout",
     "output_type": "stream",
     "text": [
      "6\n"
     ]
    }
   ],
   "source": [
    "string = \"faslfadjfad\"\n",
    "print (lengthLongestNonRepSubstring2(string))"
   ]
  },
  {
   "cell_type": "markdown",
   "id": "def2b518",
   "metadata": {},
   "source": [
    " "
   ]
  },
  {
   "cell_type": "markdown",
   "id": "6db918b1",
   "metadata": {},
   "source": [
    "#### Solution #4 -  Two pointers solution (dictionary + moving pointers only):"
   ]
  },
  {
   "cell_type": "markdown",
   "id": "543b4d4c",
   "metadata": {},
   "source": [
    "This is a solution with good memory complexity but bad time complexity:"
   ]
  },
  {
   "cell_type": "code",
   "execution_count": 26,
   "id": "ad9647fb",
   "metadata": {},
   "outputs": [],
   "source": [
    "def lengthLongestNonRepSubstring3(s: str) -> int:\n",
    "        cs = {}\n",
    "        b = 0\n",
    "        maxl = 0\n",
    "\n",
    "        if s==\"\": return 0\n",
    "        for i in range (len(s)):\n",
    "            if s[i] not in cs:\n",
    "                if i-b+1>maxl: maxl=i-b+1\n",
    "            else:\n",
    "                if cs[s[i]] < b:\n",
    "                    if i-b+1>maxl: maxl=i-b+1\n",
    "                else: \n",
    "                    b = cs[s[i]]+1\n",
    "                \n",
    "            cs[s[i]]=i\n",
    "\n",
    "        return maxl"
   ]
  },
  {
   "cell_type": "code",
   "execution_count": 27,
   "id": "65a18ed7",
   "metadata": {
    "scrolled": true
   },
   "outputs": [
    {
     "name": "stdout",
     "output_type": "stream",
     "text": [
      "6\n"
     ]
    }
   ],
   "source": [
    "string = \"faslfadjfad\"\n",
    "print (lengthLongestNonRepSubstring3(string))"
   ]
  }
 ],
 "metadata": {
  "kernelspec": {
   "display_name": "Python 3 (ipykernel)",
   "language": "python",
   "name": "python3"
  },
  "language_info": {
   "codemirror_mode": {
    "name": "ipython",
    "version": 3
   },
   "file_extension": ".py",
   "mimetype": "text/x-python",
   "name": "python",
   "nbconvert_exporter": "python",
   "pygments_lexer": "ipython3",
   "version": "3.11.5"
  }
 },
 "nbformat": 4,
 "nbformat_minor": 5
}
